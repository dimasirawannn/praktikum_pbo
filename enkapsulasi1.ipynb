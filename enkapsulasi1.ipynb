{
  "nbformat": 4,
  "nbformat_minor": 0,
  "metadata": {
    "colab": {
      "provenance": [],
      "authorship_tag": "ABX9TyNtfOyABPtHikThks0NR2hp",
      "include_colab_link": true
    },
    "kernelspec": {
      "name": "python3",
      "display_name": "Python 3"
    },
    "language_info": {
      "name": "python"
    }
  },
  "cells": [
    {
      "cell_type": "markdown",
      "metadata": {
        "id": "view-in-github",
        "colab_type": "text"
      },
      "source": [
        "<a href=\"https://colab.research.google.com/github/dimasirawannn/praktikum_pbo/blob/main/enkapsulasi1.ipynb\" target=\"_parent\"><img src=\"https://colab.research.google.com/assets/colab-badge.svg\" alt=\"Open In Colab\"/></a>"
      ]
    },
    {
      "cell_type": "code",
      "execution_count": 1,
      "metadata": {
        "colab": {
          "base_uri": "https://localhost:8080/"
        },
        "id": "9rjLT2DrtU09",
        "outputId": "7e48314b-e318-4689-c6bb-497ab617926c"
      },
      "outputs": [
        {
          "output_type": "stream",
          "name": "stdout",
          "text": [
            "800.0\n",
            "Gaji final = 5000\n"
          ]
        }
      ],
      "source": [
        "# enkapsulasi dengan public access modifier\n",
        "class pegawai:\n",
        "    def __init__(self, nama, salary):\n",
        "        self.nama=nama\n",
        "        self.gaji=salary\n",
        "        self.gaji_final= self.gaji - (0.2 * self.gaji)\n",
        "\n",
        "obj1 = pegawai(\"Agus\", 1000)\n",
        "print(obj1.gaji_final)\n",
        "\n",
        "obj1.gaji_final = 5000\n",
        "print(f\"Gaji final = {obj1.gaji_final}\")"
      ]
    }
  ]
}